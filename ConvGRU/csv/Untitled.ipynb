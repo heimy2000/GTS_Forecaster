{
 "cells": [
  {
   "cell_type": "code",
   "execution_count": 26,
   "id": "fcc82c2f-4a3f-4ff2-8f39-30ef01c9a0bd",
   "metadata": {},
   "outputs": [
    {
     "name": "stdout",
     "output_type": "stream",
     "text": [
      "  Percentage  Samples      R2       MSE      MAE\n",
      "0       100%      398  0.8710  365.1850  15.3413\n",
      "1        50%      199  0.8787  340.8731  14.7241\n",
      "2        10%       40  0.8948  352.9191  16.0545\n"
     ]
    }
   ],
   "source": [
    "import pandas as pd\n",
    "from sklearn.metrics import r2_score, mean_squared_error, mean_absolute_error\n",
    "\n",
    "# 读取CSV文件\n",
    "data = pd.read_csv('test_value_20250307_191043.csv')  # 替换为你的文件路径\n",
    "\n",
    "# 定义测试比例（100%, 50%, 10%）\n",
    "percentages = [1.0, 0.5, 0.1]\n",
    "\n",
    "results = []\n",
    "\n",
    "for p in percentages:\n",
    "    # 抽样数据（如果是时间序列需按时间排序后取前N%，否则随机抽样）\n",
    "    if p == 1.0:\n",
    "        subset = data\n",
    "    else:\n",
    "        # 随机抽样（非时间序列）\n",
    "        subset = data.sample(frac=p, random_state=42)  # 固定随机种子保证可重复性\n",
    "        \n",
    "        # 如果是时间序列，替换为按时间取前N%：\n",
    "        # subset = data.iloc[:int(len(data)*p)]\n",
    "    \n",
    "    actual = subset['Actual']\n",
    "    predicted = subset['Predicted']\n",
    "    \n",
    "    # 计算指标\n",
    "    r2 = r2_score(actual, predicted)\n",
    "    mse = mean_squared_error(actual, predicted)\n",
    "    mae = mean_absolute_error(actual, predicted)\n",
    "    \n",
    "    results.append({\n",
    "        'Percentage': f\"{int(p*100)}%\",\n",
    "        'Samples': len(subset),\n",
    "        'R2': round(r2, 4),\n",
    "        'MSE': round(mse, 4),\n",
    "        'MAE': round(mae, 4)\n",
    "    })\n",
    "\n",
    "# 输出结果\n",
    "results_df = pd.DataFrame(results)\n",
    "print(results_df)"
   ]
  },
  {
   "cell_type": "code",
   "execution_count": null,
   "id": "587a1976-bfda-4393-8259-627518692495",
   "metadata": {},
   "outputs": [],
   "source": []
  }
 ],
 "metadata": {
  "kernelspec": {
   "display_name": "Python (qwenvl)",
   "language": "python",
   "name": "qwenvl"
  },
  "language_info": {
   "codemirror_mode": {
    "name": "ipython",
    "version": 3
   },
   "file_extension": ".py",
   "mimetype": "text/x-python",
   "name": "python",
   "nbconvert_exporter": "python",
   "pygments_lexer": "ipython3",
   "version": "3.12.9"
  }
 },
 "nbformat": 4,
 "nbformat_minor": 5
}
