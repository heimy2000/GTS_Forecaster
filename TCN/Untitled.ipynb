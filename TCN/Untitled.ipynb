{
 "cells": [
  {
   "cell_type": "code",
   "execution_count": 8,
   "id": "3ea08511-3837-437b-92b8-72561256382e",
   "metadata": {},
   "outputs": [
    {
     "name": "stdout",
     "output_type": "stream",
     "text": [
      "  Percentage  Samples      R2       MSE      MAE\n",
      "0       100%     1887  0.4601  148.1466  10.5221\n",
      "1        50%      944  0.4413  149.9555  10.5751\n",
      "2        10%      189  0.3672  168.5104  11.5547\n"
     ]
    }
   ],
   "source": [
    "import pandas as pd\n",
    "from sklearn.metrics import r2_score, mean_squared_error, mean_absolute_error\n",
    "\n",
    "# 读取CSV文件\n",
    "data = pd.read_csv('test_results_20250304_202752.csv')  # 替换为你的文件路径\n",
    "\n",
    "# 定义测试比例（100%, 50%, 10%）\n",
    "percentages = [1.0, 0.5, 0.1]\n",
    "\n",
    "results = []\n",
    "\n",
    "for p in percentages:\n",
    "    # 抽样数据（如果是时间序列需按时间排序后取前N%，否则随机抽样）\n",
    "    if p == 1.0:\n",
    "        subset = data\n",
    "    else:\n",
    "        # 随机抽样（非时间序列）\n",
    "        subset = data.sample(frac=p, random_state=42)  # 固定随机种子保证可重复性\n",
    "        \n",
    "        # 如果是时间序列，替换为按时间取前N%：\n",
    "        # subset = data.iloc[:int(len(data)*p)]\n",
    "    \n",
    "    actual = subset['actual']\n",
    "    predicted = subset['predicted']\n",
    "    \n",
    "    # 计算指标\n",
    "    r2 = r2_score(actual, predicted)\n",
    "    mse = mean_squared_error(actual, predicted)\n",
    "    mae = mean_absolute_error(actual, predicted)\n",
    "    \n",
    "    results.append({\n",
    "        'Percentage': f\"{int(p*100)}%\",\n",
    "        'Samples': len(subset),\n",
    "        'R2': round(r2, 4),\n",
    "        'MSE': round(mse, 4),\n",
    "        'MAE': round(mae, 4)\n",
    "    })\n",
    "\n",
    "# 输出结果\n",
    "results_df = pd.DataFrame(results)\n",
    "print(results_df)"
   ]
  },
  {
   "cell_type": "code",
   "execution_count": null,
   "id": "f48effea-e6a4-47a8-8155-7fafa5a7e6e0",
   "metadata": {},
   "outputs": [],
   "source": []
  }
 ],
 "metadata": {
  "kernelspec": {
   "display_name": "Python (qwenvl)",
   "language": "python",
   "name": "qwenvl"
  },
  "language_info": {
   "codemirror_mode": {
    "name": "ipython",
    "version": 3
   },
   "file_extension": ".py",
   "mimetype": "text/x-python",
   "name": "python",
   "nbconvert_exporter": "python",
   "pygments_lexer": "ipython3",
   "version": "3.12.9"
  }
 },
 "nbformat": 4,
 "nbformat_minor": 5
}
